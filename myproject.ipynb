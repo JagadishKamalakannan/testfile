{
    "cells": [
        {
            "metadata": {},
            "cell_type": "markdown",
            "source": "# My Jupyter Notebook on IBM Watson Studio"
        },
        {
            "metadata": {},
            "cell_type": "markdown",
            "source": "**Jagadish**\nSystem engineer"
        },
        {
            "metadata": {},
            "cell_type": "markdown",
            "source": "_I am passionate about pursuing a data science career in Big Tech Companies with the main focus of analyzing and improving user experience. I would like to build personalized recommendation system according to each person._"
        },
        {
            "metadata": {},
            "cell_type": "markdown",
            "source": "### Printing my name"
        },
        {
            "metadata": {},
            "cell_type": "code",
            "source": "print(\"Jagadish\")",
            "execution_count": 7,
            "outputs": [
                {
                    "output_type": "stream",
                    "text": "Jagadish\n",
                    "name": "stdout"
                }
            ]
        },
        {
            "metadata": {},
            "cell_type": "markdown",
            "source": "* First Name is Jagadish\n1. hello world\n1. Welcome to IBM Studio\n---\nThank you!!!"
        }
    ],
    "metadata": {
        "kernelspec": {
            "name": "python3",
            "display_name": "Python 3.9",
            "language": "python"
        },
        "language_info": {
            "name": "python",
            "version": "3.9.13",
            "mimetype": "text/x-python",
            "codemirror_mode": {
                "name": "ipython",
                "version": 3
            },
            "pygments_lexer": "ipython3",
            "nbconvert_exporter": "python",
            "file_extension": ".py"
        }
    },
    "nbformat": 4,
    "nbformat_minor": 1
}